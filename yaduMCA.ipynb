{
 "cells": [
  {
   "cell_type": "code",
   "execution_count": 4,
   "id": "433a21c0",
   "metadata": {
    "scrolled": true
   },
   "outputs": [
    {
     "name": "stdout",
     "output_type": "stream",
     "text": [
      "enter number of elements:3\n",
      "enter elements:100\n",
      "enter elements:200\n",
      "enter elements:300\n",
      "[100, 'over', 'over']\n"
     ]
    }
   ],
   "source": [
    "li=[]\n",
    "a=int(input(\"enter number of elements:\"))\n",
    "for i in range(0,a):\n",
    "    b=int(input(\"enter elements:\"))\n",
    "    if(b>100):\n",
    "        li.append(\"over\")\n",
    "    else:\n",
    "        li.append(b)\n",
    "print(li)\n",
    "    "
   ]
  },
  {
   "cell_type": "code",
   "execution_count": null,
   "id": "139ebee5",
   "metadata": {},
   "outputs": [],
   "source": [
    "a=[3,7,9,6,6]\n",
    "b=[5,7,6,9,8,6]\n",
    "l1=len(a)\n",
    "l2=len(b)\n",
    "if(l1==l2):\n",
    "    print(\"same length\")\n",
    "else:\n",
    "    print(\"not same length\")\n",
    "\n"
   ]
  },
  {
   "cell_type": "code",
   "execution_count": null,
   "id": "8be03870",
   "metadata": {},
   "outputs": [],
   "source": []
  },
  {
   "cell_type": "code",
   "execution_count": null,
   "id": "f373eede",
   "metadata": {},
   "outputs": [],
   "source": []
  },
  {
   "cell_type": "code",
   "execution_count": 1,
   "id": "503565ad",
   "metadata": {},
   "outputs": [
    {
     "name": "stdout",
     "output_type": "stream",
     "text": [
      "list are of same length\n",
      "sum of the list are not same\n",
      "doesnt have same value\n"
     ]
    }
   ],
   "source": [
    "flag=0\n",
    "a=[1,2,3,4]\n",
    "b=[5,6,7,11]\n",
    "l1=len(a)\n",
    "l2=len(b)\n",
    "if(l1==l2):\n",
    "    print(\"list are of same length\")\n",
    "else:\n",
    "    print(\"list length is not same\")\n",
    "s1=sum(a)\n",
    "s2=sum(b)\n",
    "if(s1==s2):\n",
    "    print(\"sum of the list is same\")\n",
    "else:\n",
    "    print(\"sum of the list are not same\")\n",
    "for i in a:\n",
    "    for j in b:\n",
    "        if(i==j):\n",
    "            flag=flag+1\n",
    "            print(\"the list has the same value\",i)\n",
    "        \n",
    "if(flag==0):\n",
    "    print(\"doesnt have same value\")\n",
    "    \n",
    "        \n",
    "    \n",
    "    \n",
    "  \n",
    "\n",
    "\n",
    "    \n"
   ]
  },
  {
   "cell_type": "code",
   "execution_count": 8,
   "id": "c9f6bb91",
   "metadata": {
    "scrolled": true
   },
   "outputs": [
    {
     "name": "stdout",
     "output_type": "stream",
     "text": [
      "enter a:20\n",
      "enter b:10\n",
      "gcd(a,b)= 10\n"
     ]
    }
   ],
   "source": [
    "def gcd(a,b):\n",
    "    if(b==0):\n",
    "        return a\n",
    "    else:\n",
    "        return gcd(b,a%b)\n",
    "a=int(input(\"enter a:\"))\n",
    "b=int(input(\"enter b:\"))\n",
    "print(\"gcd(a,b)=\",gcd(a,b))"
   ]
  },
  {
   "cell_type": "markdown",
   "id": "0ae79653",
   "metadata": {},
   "source": [
    "list=[]\n",
    "n=int(input(\"enter range:\"))\n",
    "for i in range(n):\n",
    "    a=int(input(\"Enter the number of elements : \"))\n",
    "    list.append(a)\n",
    "print(list)\n",
    "list1=[]\n",
    "for i in list:\n",
    "        if(i%2!=0):\n",
    "            list1.append(i)\n",
    "print(\"List after removing even numbers : \",list1)"
   ]
  },
  {
   "cell_type": "markdown",
   "id": "b93347df",
   "metadata": {},
   "source": [
    "###### "
   ]
  },
  {
   "cell_type": "code",
   "execution_count": 4,
   "id": "01313190",
   "metadata": {},
   "outputs": [
    {
     "name": "stdout",
     "output_type": "stream",
     "text": [
      "enter range:5\n",
      "Enter the number of elements : 1\n",
      "Enter the number of elements : 2\n",
      "Enter the number of elements : 3\n",
      "Enter the number of elements : 4\n",
      "Enter the number of elements : 5\n",
      "[1, 2, 3, 4, 5]\n",
      "List after removing even numbers :  [1, 3, 5]\n"
     ]
    }
   ],
   "source": [
    "list=[]\n",
    "n=int(input(\"enter range:\"))\n",
    "for i in range(n):\n",
    "    a=int(input(\"Enter the number of elements : \"))\n",
    "    list.append(a)\n",
    "print(list)\n",
    "list1=[]\n",
    "for i in list:\n",
    "        if(i%2!=0):\n",
    "            list1.append(i)\n",
    "print(\"List after removing even numbers : \",list1)"
   ]
  },
  {
   "cell_type": "code",
   "execution_count": 7,
   "id": "f14388cf",
   "metadata": {
    "collapsed": true
   },
   "outputs": [
    {
     "name": "stdout",
     "output_type": "stream",
     "text": [
      "enter the current year:2023\n",
      "enter the final year:2040\n",
      "the leap years are:\n",
      "2024\n",
      "2028\n",
      "2032\n",
      "2036\n"
     ]
    }
   ],
   "source": [
    "current=int(input(\"enter the current year:\"))\n",
    "final=int(input(\"enter the final year:\"))\n",
    "print(\"the leap years are:\")\n",
    "for i in range(current,final):\n",
    "    if(i%400==0 or i%100!=0 and i%4==0):\n",
    "        print(i)"
   ]
  },
  {
   "cell_type": "code",
   "execution_count": 19,
   "id": "201c7392",
   "metadata": {
    "scrolled": true
   },
   "outputs": [
    {
     "name": "stdout",
     "output_type": "stream",
     "text": [
      "enter the range:4\n",
      "enter the elements:-1\n",
      "enter the elements:2\n",
      "enter the elements:-3\n",
      "enter the elements:4\n",
      "The list is [-1, 2, -3, 4]\n",
      "positive list of integers [2, 4]\n"
     ]
    }
   ],
   "source": [
    "lst=[]\n",
    "n=int(input(\"enter the range:\"))\n",
    "for i in range(n):\n",
    "    a=int(input(\"enter the elements:\"))\n",
    "    lst.append(a)\n",
    "print(\"The list is\",lst)\n",
    "lst1=[]\n",
    "for i in lst:\n",
    "    if(i>0):\n",
    "        lst1.append(i)\n",
    "print(\"positive list of integers\",lst1)"
   ]
  },
  {
   "cell_type": "code",
   "execution_count": 1,
   "id": "f26e8080",
   "metadata": {},
   "outputs": [
    {
     "name": "stdout",
     "output_type": "stream",
     "text": [
      "enter the range:3\n",
      "enter the elements:3\n",
      "enter the elements:4\n",
      "enter the elements:5\n",
      "the list is [3, 4, 5]\n",
      "the list of squares: [9, 16, 25]\n"
     ]
    }
   ],
   "source": [
    "lst=[]\n",
    "n=int(input(\"enter the range:\"))\n",
    "for i in range(n):\n",
    "    a=int(input(\"enter the elements:\"))\n",
    "    lst.append(a)\n",
    "print(\"the list is\",lst)\n",
    "lst=[i*i for i in lst]\n",
    "print(\"the list of squares:\",lst)\n",
    "    \n",
    "    "
   ]
  },
  {
   "cell_type": "code",
   "execution_count": 5,
   "id": "4749364b",
   "metadata": {},
   "outputs": [
    {
     "name": "stdout",
     "output_type": "stream",
     "text": [
      "enter the word:education\n",
      "the vowels in the words are ['e', 'u', 'a', 'i', 'o']\n"
     ]
    }
   ],
   "source": [
    "vowels=['A','E','I','O','U','a','e','i','o','u']\n",
    "vow=[]\n",
    "word=input(\"enter the word:\")\n",
    "vow=[i for i in word if i in vowels]\n",
    "print(\"the vowels in the words are\",vow)"
   ]
  },
  {
   "cell_type": "code",
   "execution_count": 14,
   "id": "2a0d1d7b",
   "metadata": {},
   "outputs": [
    {
     "name": "stdout",
     "output_type": "stream",
     "text": [
      "Enter the word:cat\n",
      "The ordinal values are: [99, 97, 116]\n"
     ]
    }
   ],
   "source": [
    "word=input(\"Enter the word:\")\n",
    "ord_value=[ord(i) for i in word]\n",
    "print(\"The ordinal values are:\",ord_value)"
   ]
  },
  {
   "cell_type": "code",
   "execution_count": null,
   "id": "c48ddecb",
   "metadata": {},
   "outputs": [],
   "source": [
    "name=[]\n",
    "flag=0"
   ]
  }
 ],
 "metadata": {
  "kernelspec": {
   "display_name": "Python 3",
   "language": "python",
   "name": "python3"
  },
  "language_info": {
   "codemirror_mode": {
    "name": "ipython",
    "version": 3
   },
   "file_extension": ".py",
   "mimetype": "text/x-python",
   "name": "python",
   "nbconvert_exporter": "python",
   "pygments_lexer": "ipython3",
   "version": "3.8.8"
  }
 },
 "nbformat": 4,
 "nbformat_minor": 5
}
